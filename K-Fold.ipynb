{
 "cells": [
  {
   "cell_type": "markdown",
   "id": "9c91eb9f",
   "metadata": {},
   "source": [
    "# K-Fold"
   ]
  },
  {
   "cell_type": "markdown",
   "id": "0496b2d9",
   "metadata": {},
   "source": [
    "## File explaining what led us to use K-Fold Cross Validation on our models"
   ]
  },
  {
   "cell_type": "markdown",
   "id": "ede0fa91",
   "metadata": {},
   "source": []
  },
  {
   "cell_type": "code",
   "execution_count": 33,
   "id": "0b21fb7b",
   "metadata": {},
   "outputs": [],
   "source": [
    "import numpy as np\n",
    "import pandas as pd\n",
    "import seaborn as sb\n",
    "import matplotlib.pyplot as plt\n",
    "from sklearn.model_selection import train_test_split\n",
    "from sklearn.model_selection import KFold\n",
    "from sklearn.linear_model import LogisticRegression\n",
    "from sklearn.decomposition import PCA\n",
    "from sklearn.metrics import accuracy_score\n",
    "from sklearn.model_selection import StratifiedKFold, KFold\n",
    "from sklearn.model_selection import StratifiedGroupKFold\n",
    "sb.set()\n",
    "b = pd.read_csv('data 2.csv')\n",
    "b = b.drop(columns=['id', 'Unnamed: 32'])\n",
    "b['diagnosis'] = b['diagnosis'].replace([\"M\", \"B\"], [1, 0])\n"
   ]
  },
  {
   "cell_type": "code",
   "execution_count": 34,
   "id": "820c1c48",
   "metadata": {},
   "outputs": [],
   "source": [
    "## Finding MSE and R2 of train and test \n"
   ]
  },
  {
   "cell_type": "code",
   "execution_count": 35,
   "id": "be7ab8d0",
   "metadata": {},
   "outputs": [
    {
     "name": "stdout",
     "output_type": "stream",
     "text": [
      "Train MSE: 0.051208582482614416\n",
      "Test MSE: 0.06312402317639006\n",
      "Train R2: 0.7740813879626807\n",
      "Test R2: 0.7468025292591465\n"
     ]
    }
   ],
   "source": [
    "from sklearn.preprocessing import StandardScaler\n",
    "from sklearn.metrics import mean_squared_error\n",
    "from sklearn.metrics import r2_score\n",
    "\n",
    "\n",
    "X_train, X_test, y_train, y_test = train_test_split(X, y, test_size=0.2, random_state=69)\n",
    "X = b.drop('diagnosis', axis=1)  \n",
    "y = b['diagnosis']\n",
    "\n",
    "# Initialize the StandardScaler\n",
    "scaler = StandardScaler()\n",
    "\n",
    "# Fit the scaler to the training data and transform it\n",
    "X_train_scaled = scaler.fit_transform(X_train)\n",
    "\n",
    "# Transform the test data using the same scaler \n",
    "X_test_scaled = scaler.transform(X_test)\n",
    "# Train the model using the scaled training set\n",
    "model = LinearRegression() \n",
    "model.fit(X_train_scaled, y_train)\n",
    "\n",
    "# Make predictions using the scaled training set and testing set\n",
    "y_train_pred = model.predict(X_train_scaled)\n",
    "y_test_pred = model.predict(X_test_scaled)\n",
    "\n",
    "# Calculate the mean squared error and R2 score for both sets\n",
    "train_mse = mean_squared_error(y_train, y_train_pred)\n",
    "test_mse = mean_squared_error(y_test, y_test_pred)\n",
    "train_r2 = r2_score(y_train, y_train_pred)\n",
    "test_r2 = r2_score(y_test, y_test_pred)\n",
    "\n",
    "print(\"Train MSE:\", train_mse)\n",
    "print(\"Test MSE:\", test_mse)\n",
    "print(\"Train R2:\", train_r2)\n",
    "print(\"Test R2:\", test_r2)\n",
    "\n"
   ]
  },
  {
   "cell_type": "code",
   "execution_count": null,
   "id": "3411fbac",
   "metadata": {},
   "outputs": [],
   "source": []
  },
  {
   "cell_type": "markdown",
   "id": "b233543a",
   "metadata": {},
   "source": [
    "## From this data alone of MSE and R2, it is not possible to tell whether our data is overfitting or not, hence we did further analysis"
   ]
  },
  {
   "cell_type": "code",
   "execution_count": 41,
   "id": "5823810d",
   "metadata": {},
   "outputs": [
    {
     "name": "stdout",
     "output_type": "stream",
     "text": [
      "Train Accuracy: 0.989010989010989\n",
      "Test Accuracy: 0.9473684210526315\n",
      "Accuracy scores for each fold: [0.9782608695652174, 1.0, 0.9347826086956522, 0.9565217391304348, 0.9782608695652174, 0.9555555555555556, 0.9555555555555556, 1.0, 0.9777777777777777, 1.0]\n",
      "Average accuracy score: 0.9736714975845411\n",
      "Overfitting detected\n"
     ]
    }
   ],
   "source": [
    "from sklearn.preprocessing import StandardScaler\n",
    "\n",
    "# Split the data into training and testing sets\n",
    "X_train, X_test, y_train, y_test = train_test_split(X, y, test_size=0.2, random_state=69)\n",
    "\n",
    "# Initialize the StandardScaler\n",
    "scaler = StandardScaler()\n",
    "\n",
    "# Fit the scaler to the training data and transform it\n",
    "X_train_scaled = scaler.fit_transform(X_train)\n",
    "\n",
    "# Transform the test data using the same scaler \n",
    "X_test_scaled = scaler.transform(X_test)\n",
    "\n",
    "# Train the model using logistic regression\n",
    "logreg = LogisticRegression(solver='liblinear')\n",
    "logreg.fit(X_train_scaled, y_train)\n",
    "\n",
    "# Make predictions on the training and test sets\n",
    "y_train_pred = logreg.predict(X_train_scaled)\n",
    "y_test_pred = logreg.predict(X_test_scaled)\n",
    "\n",
    "# Calculate the accuracy on the training and test sets\n",
    "train_accuracy = accuracy_score(y_train, y_train_pred)\n",
    "test_accuracy = accuracy_score(y_test, y_test_pred)\n",
    "\n",
    "# Print the accuracy on the training and test sets\n",
    "print(\"Train Accuracy:\", train_accuracy)\n",
    "print(\"Test Accuracy:\", test_accuracy)\n",
    "\n",
    "# Define the number of folds for k-fold cross-validation\n",
    "n_splits = 10\n",
    "kf = KFold(n_splits=n_splits, random_state=69, shuffle=True)\n",
    "\n",
    "accuracy_scores = []\n",
    "\n",
    "# Perform k-fold cross-validation and calculate the accuracy scores\n",
    "for train_index, test_index in kf.split(X_train_scaled):\n",
    "    X_train_kf, X_test_kf = X_train_scaled[train_index], X_train_scaled[test_index]\n",
    "    y_train_kf, y_test_kf = y_train.iloc[train_index], y_train.iloc[test_index]\n",
    "\n",
    "\n",
    "    # Train the model using logistic regression\n",
    "    logreg.fit(X_train_kf, y_train_kf)\n",
    "\n",
    "    # Make predictions on the test set\n",
    "    y_pred_kf = logreg.predict(X_test_kf)\n",
    "\n",
    "    # Calculate the accuracy score\n",
    "    accuracy_kf = accuracy_score(y_test_kf, y_pred_kf)\n",
    "\n",
    "    # Append the accuracy score to the list\n",
    "    accuracy_scores.append(accuracy_kf)\n",
    "\n",
    "# Print the accuracy scores for each fold\n",
    "print(\"Accuracy scores for each fold:\", accuracy_scores)\n",
    "\n",
    "# Calculate the average accuracy score\n",
    "average_accuracy = np.mean(accuracy_scores)\n",
    "\n",
    "# Print the average accuracy score\n",
    "print(\"Average accuracy score:\", average_accuracy)\n",
    "\n",
    "# Check for overfitting by comparing the accuracy on the training set to the average accuracy from k-fold cross-validation\n",
    "if train_accuracy > average_accuracy:\n",
    "    print(\"Overfitting detected\")\n",
    "else:\n",
    "    print(\"No overfitting detected\")"
   ]
  },
  {
   "cell_type": "markdown",
   "id": "98325bb6",
   "metadata": {},
   "source": [
    "## This above code applies K-Fold and checks for overfitting, overfitting is detected in this case. It detects overfitting by comparing the accuracy of the model on the training set to the average accuracy obtained from k-fold cross validation\n"
   ]
  },
  {
   "cell_type": "code",
   "execution_count": null,
   "id": "7d9b4ca4",
   "metadata": {},
   "outputs": [],
   "source": []
  },
  {
   "cell_type": "code",
   "execution_count": null,
   "id": "ab1c19b2",
   "metadata": {},
   "outputs": [],
   "source": [
    "\n"
   ]
  },
  {
   "cell_type": "markdown",
   "id": "4bf8d65f",
   "metadata": {},
   "source": []
  },
  {
   "cell_type": "markdown",
   "id": "92260268",
   "metadata": {},
   "source": []
  },
  {
   "cell_type": "markdown",
   "id": "415b178d",
   "metadata": {},
   "source": [
    "## As such, we have decided that using a K-Fold cross validation for our models later on would be best in this case, to prevent possible overfitting of data points and to also address the limitations of our limited data set"
   ]
  },
  {
   "cell_type": "code",
   "execution_count": 42,
   "id": "1841a216",
   "metadata": {},
   "outputs": [],
   "source": [
    "## the codes from here onwords will explain what K-Fold is "
   ]
  },
  {
   "cell_type": "markdown",
   "id": "00d326f4",
   "metadata": {},
   "source": [
    "## K-Fold Cross Validation"
   ]
  },
  {
   "attachments": {
    "image.png": {
     "image/png": "[encoded data removed]"
    }
   },
   "cell_type": "markdown",
   "id": "03929265",
   "metadata": {},
   "source": [
    "###  ![image.png](attachment:image.png)\n",
    "\n"
   ]
  },
  {
   "cell_type": "markdown",
   "id": "2808f65a",
   "metadata": {},
   "source": [
    "K-fold cross-validation is a resampling technique used to evaluate the performance of machine learning models. It provides us with a more reliable estimate of a model's performance than simply splitting the data into a single train-test set. The main idea behind k-fold cross-validation is to divide the dataset into 'k' smaller, equally sized subsets or 'folds'. The model is then trained and evaluated 'k' times, each time using a different fold as the test set and the remaining 'k-1' folds as the training set.\n",
    "\n",
    "The steps involved in k-fold cross-validation are as follows:\n",
    "\n",
    "1. Divide the dataset into 'k' equally sized folds.\n",
    "2. For each fold (from 1 to k):\n",
    "   a. Set the current fold as the test set and the remaining 'k-1' folds as the training set.\n",
    "   b. Train the model using the training set.\n",
    "   c. Evaluate the model using the test set and record the performance metric (e.g., accuracy, precision, recall, etc.).\n",
    "3. Calculate the average of the recorded performance metrics across all 'k' iterations.\n",
    "\n",
    "By following this procedure, each data point gets to be in the test set exactly once, and in the training set 'k-1' times. The final performance metric is then calculated by averaging the performance metrics obtained during the 'k' iterations. This provides a more robust and reliable estimate of the model's performance, as it reduces the impact of the particular train-test split on the evaluation and helps account for potential biases in the data distribution.\n",
    "\n",
    "K-fold cross-validation is especially useful in our case when dealing with small datasets, as it can help in mitigating the risk of overfitting and provide a better assessment of our model's generalization ability."
   ]
  },
  {
   "cell_type": "markdown",
   "id": "a74aae9c",
   "metadata": {},
   "source": [
    "## As such, by using K-Fold we are able to get a more reliable representation of our accuracies"
   ]
  },
  {
   "cell_type": "code",
   "execution_count": 37,
   "id": "f56e4eef",
   "metadata": {},
   "outputs": [
    {
     "name": "stdout",
     "output_type": "stream",
     "text": [
      "Accuracy scores for each fold: [0.9649122807017544, 0.8771929824561403, 0.9824561403508771, 0.9824561403508771, 0.9473684210526315, 0.9649122807017544, 0.9298245614035088, 0.9473684210526315, 0.9473684210526315, 0.9821428571428571]\n",
      "Average accuracy score: 0.9526002506265664\n"
     ]
    }
   ],
   "source": [
    "from sklearn.preprocessing import StandardScaler\n",
    "\n",
    "# Scale the data\n",
    "scaler = StandardScaler()\n",
    "X_scaled = scaler.fit_transform(X)\n",
    "\n",
    "# Perform PCA after scaling the data\n",
    "pca = PCA(n_components=2)\n",
    "X_pca = pca.fit_transform(X_scaled)\n",
    "\n",
    "# Defining the number of folds for k-fold cross-validation\n",
    "n_splits = 10\n",
    "kf = KFold(n_splits=n_splits, random_state=69, shuffle=True)\n",
    "\n",
    "# Initializing the logistic regression model\n",
    "logreg = LogisticRegression(solver='liblinear')\n",
    "\n",
    "accuracy_scores = []\n",
    "\n",
    "# Performing k-fold cross-validation\n",
    "for train_index, test_index in kf.split(X_pca):\n",
    "    X_train, X_test = X_pca[train_index], X_pca[test_index]\n",
    "    y_train, y_test = y[train_index], y[test_index]\n",
    "    \n",
    "    # Logistic Regression\n",
    "\n",
    "    # Fitting the model on the training data\n",
    "    logreg.fit(X_train, y_train)\n",
    "\n",
    "    # Predicting on the test data\n",
    "    y_pred = logreg.predict(X_test)\n",
    "\n",
    "    # Calculating accuracy score\n",
    "    accuracy = accuracy_score(y_test, y_pred)\n",
    "    accuracy_scores.append(accuracy)\n",
    "\n",
    "# Printing the accuracy scores for each fold\n",
    "print(\"Accuracy scores for each fold:\", accuracy_scores)\n",
    "\n",
    "# Calculating the average accuracy score\n",
    "average_accuracy = np.mean(accuracy_scores)\n",
    "print(\"Average accuracy score:\", average_accuracy)\n",
    "\n"
   ]
  },
  {
   "cell_type": "markdown",
   "id": "fab52e6a",
   "metadata": {},
   "source": []
  },
  {
   "cell_type": "markdown",
   "id": "f9bf92f6",
   "metadata": {},
   "source": []
  },
  {
   "cell_type": "markdown",
   "id": "eca56568",
   "metadata": {},
   "source": []
  },
  {
   "cell_type": "code",
   "execution_count": null,
   "id": "abe7bc8e",
   "metadata": {},
   "outputs": [],
   "source": []
  },
  {
   "attachments": {
    "image.png": {
     "image/png": "[encoded data removed]"
    }
   },
   "cell_type": "markdown",
   "id": "d8ad8f1b",
   "metadata": {},
   "source": [
    "## Stratified K-Fold ![image.png](attachment:image.png)"
   ]
  },
  {
   "cell_type": "raw",
   "id": "9ba9ba2d",
   "metadata": {},
   "source": [
    "Stratified k-fold cross-validation can be better than regular k-fold cross-validation, especially when dealing with imbalanced datasets or datasets with unequal class distributions. The main advantage of stratified k-fold is that it maintains the same class distribution in each fold as the overall class distribution in the dataset. This helps to ensure that each fold contains a representative sample of the class distribution."
   ]
  },
  {
   "cell_type": "code",
   "execution_count": 38,
   "id": "572f901a",
   "metadata": {},
   "outputs": [
    {
     "name": "stdout",
     "output_type": "stream",
     "text": [
      "Accuracy scores for each fold: [1.0, 0.9473684210526315, 0.9649122807017544, 0.9649122807017544, 0.9824561403508771, 1.0, 0.9824561403508771, 0.9824561403508771, 0.9824561403508771, 0.9642857142857143]\n",
      "Average accuracy score: 0.9771303258145363\n"
     ]
    }
   ],
   "source": [
    "from sklearn.model_selection import StratifiedKFold\n",
    "\n",
    "# Scale the data\n",
    "scaler = StandardScaler()\n",
    "X_scaled = scaler.fit_transform(X)\n",
    "\n",
    "# Defining the number of folds for stratified k-fold cross-validation\n",
    "n_splits = 10\n",
    "skf = StratifiedKFold(n_splits=n_splits, random_state=69, shuffle=True)\n",
    "\n",
    "# Initializing the logistic regression model\n",
    "logreg = LogisticRegression(solver='liblinear')\n",
    "\n",
    "accuracy_scores = []\n",
    "\n",
    "# Performing stratified k-fold cross-validation\n",
    "for train_index, test_index in skf.split(X_scaled, y):\n",
    "    X_train, X_test = X_scaled[train_index], X_scaled[test_index]\n",
    "    y_train, y_test = y[train_index], y[test_index]\n",
    "    \n",
    "    # Logistic Regression\n",
    "\n",
    "    # Fitting the model on the training data\n",
    "    logreg.fit(X_train, y_train)\n",
    "\n",
    "    # Predicting on the test data\n",
    "    y_pred = logreg.predict(X_test)\n",
    "\n",
    "    # Calculating accuracy score\n",
    "    accuracy = accuracy_score(y_test, y_pred)\n",
    "    accuracy_scores.append(accuracy)\n",
    "\n",
    "# Printing the accuracy scores for each fold\n",
    "print(\"Accuracy scores for each fold:\", accuracy_scores)\n",
    "\n",
    "# Calculating the average accuracy score\n",
    "average_accuracy = np.mean(accuracy_scores)\n",
    "print(\"Average accuracy score:\", average_accuracy)\n"
   ]
  },
  {
   "cell_type": "code",
   "execution_count": null,
   "id": "5410f6f4",
   "metadata": {},
   "outputs": [],
   "source": [
    "\n"
   ]
  },
  {
   "cell_type": "code",
   "execution_count": null,
   "id": "b7ddc830",
   "metadata": {},
   "outputs": [],
   "source": []
  }
 ],
 "metadata": {
  "kernelspec": {
   "display_name": "Python 3 (ipykernel)",
   "language": "python",
   "name": "python3"
  },
  "language_info": {
   "codemirror_mode": {
    "name": "ipython",
    "version": 3
   },
   "file_extension": ".py",
   "mimetype": "text/x-python",
   "name": "python",
   "nbconvert_exporter": "python",
   "pygments_lexer": "ipython3",
   "version": "3.9.13"
  }
 },
 "nbformat": 4,
 "nbformat_minor": 5
}
